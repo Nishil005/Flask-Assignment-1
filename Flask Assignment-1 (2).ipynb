{
 "cells": [
  {
   "cell_type": "markdown",
   "id": "93151095-8aa2-4636-8a74-c58ea41aadbd",
   "metadata": {},
   "source": [
    "Q1. What is Flask Framework? What are the advantages of Flask Framework?"
   ]
  },
  {
   "cell_type": "markdown",
   "id": "63747a81-3e00-440a-a361-ef3193351c44",
   "metadata": {},
   "source": [
    "Python web developers can create web apps using the Flask web framework. Because the fundamental functionality is kept straightforward and adaptable while allowing developers to include the capabilities they require through third-party extensions, it is referred to as a microframework. Armin Ronacher developed Flask, which was originally made available in 2010.\n",
    "\n",
    "Simplicity\n",
    "Lightweight\n",
    "Flexibility\n",
    "Extensibility\n",
    "Integration\n",
    "Testing\n",
    "Documentation and Community\n",
    "Overall, Flask is a popular choice for developers who value simplicity, flexibility, and control in building web applications using Python."
   ]
  },
  {
   "cell_type": "markdown",
   "id": "f5469aba-e9c6-4f7d-bbdb-2ae68fea904f",
   "metadata": {},
   "source": [
    "Q2. Create a simple Flask application to display ‘Hello World!!’. Attach the screenshot of the output in\n",
    "Jupyter Notebook."
   ]
  },
  {
   "cell_type": "markdown",
   "id": "595edd23-d21b-44b1-8223-bb58629e594a",
   "metadata": {},
   "source": [
    "<img src=\"hello world.png\">"
   ]
  },
  {
   "cell_type": "markdown",
   "id": "bab569b9-aea9-4d0c-aa9a-aeab8798d09c",
   "metadata": {},
   "source": [
    "Q3. What is App routing in Flask? Why do we use app routes?"
   ]
  },
  {
   "cell_type": "markdown",
   "id": "520054eb-4d18-4dcb-a596-a58dee0ae0e8",
   "metadata": {},
   "source": [
    "App routing in Flask is the practise of assigning particular functions or view handlers in your application to specified URLs. It enables you to build many user-accessible routes or URLs and provide the relevant function that must be carried out when a specific URL is requested.\n",
    "\n",
    "To define routes, Flask employs a decorator named @app.route(). This decorator connects a function to a particular route or URL when it is applied to a function. The corresponding function is called to process the request when a user hits a specific URL, and Flask's routing system matches the URL to the relevant route specified in the application."
   ]
  },
  {
   "cell_type": "markdown",
   "id": "d9217485-3798-48b8-89e0-f195d7b12033",
   "metadata": {},
   "source": [
    "Q4. Create a “/welcome” route to display the welcome message “Welcome to ABC Corporation” and a “/”\n",
    "route to show the following details:\n",
    "Company Name: ABC Corporation\n",
    "Location: India\n",
    "Contact Detail: 999-999-9999\n"
   ]
  },
  {
   "cell_type": "markdown",
   "id": "0ddcb1bc-4be6-451e-b4ce-5d78442a2984",
   "metadata": {},
   "source": [
    "<img src=\"pwskills.png\">"
   ]
  },
  {
   "cell_type": "markdown",
   "id": "a4569fac-854f-44b8-bf1b-2763e30edcdb",
   "metadata": {},
   "source": [
    "Q5. What function is used in Flask for URL Building? Write a Python code to demonstrate the working of the\n",
    "url_for() function."
   ]
  },
  {
   "cell_type": "markdown",
   "id": "571317b0-dd34-4a67-af16-50090a03e70b",
   "metadata": {},
   "source": [
    "The url_for() function in Flask is used to construct URLs. Based on the supplied inputs, it constructs a URL for a given function or endpoint. The first argument for this function is the name of the function or endpoint, and additional keyword arguments denoting any dynamic URL components are optional.\n",
    "\n",
    "In Flask apps, the url_for() function contributes to a neat and adaptable method of creating URLs. It makes it simpler to adjust URLs in the event that they change in the future and allows you to avoid hardcoding URLs in your templates or code."
   ]
  },
  {
   "cell_type": "code",
   "execution_count": null,
   "id": "e9c63681-191a-48de-858d-07593de912a1",
   "metadata": {},
   "outputs": [],
   "source": []
  }
 ],
 "metadata": {
  "kernelspec": {
   "display_name": "Python 3 (ipykernel)",
   "language": "python",
   "name": "python3"
  },
  "language_info": {
   "codemirror_mode": {
    "name": "ipython",
    "version": 3
   },
   "file_extension": ".py",
   "mimetype": "text/x-python",
   "name": "python",
   "nbconvert_exporter": "python",
   "pygments_lexer": "ipython3",
   "version": "3.11.1"
  }
 },
 "nbformat": 4,
 "nbformat_minor": 5
}
